{
 "cells": [
  {
   "cell_type": "code",
   "execution_count": 1,
   "id": "44f67d61-798d-45f2-b688-4f47d00c597d",
   "metadata": {},
   "outputs": [],
   "source": [
    "import xarray as xr\n",
    "import numpy as np\n",
    "import dask.array as da\n",
    "import matplotlib.pyplot as plt\n",
    "import os\n",
    "from dask.distributed import Client, LocalCluster\n",
    "from datetime import datetime,timedelta\n",
    "import glob\n",
    "import rioxarray\n",
    "import xarray as xr\n",
    "from glob import glob\n",
    "import rioxarray as rio\n",
    "import cftime\n",
    "import indices_function as ifun\n"
   ]
  },
  {
   "cell_type": "code",
   "execution_count": null,
   "id": "37c21391-9047-4eb6-9896-89bbfd1929db",
   "metadata": {},
   "outputs": [],
   "source": [
    "cluster = LocalCluster(\n",
    "    n_workers=40, \n",
    "    threads_per_worker=1,\n",
    "    timeout='3600s',\n",
    "    memory_limit='20GB',   \n",
    ")\n",
    "client = Client(cluster)\n",
    "client"
   ]
  },
  {
   "cell_type": "code",
   "execution_count": 13,
   "id": "fca7a3f0-ac00-4d2d-874e-71955a6248e0",
   "metadata": {},
   "outputs": [],
   "source": [
    "hi_precip=xr.open_mfdataset(\"/nobackupp17/bthrashe/public/HI_test/tasmin*historical*.nc\",decode_times=False)\n"
   ]
  },
  {
   "cell_type": "code",
   "execution_count": 25,
   "id": "3931afc4-f92d-4d1b-8681-1c4961ccb0e1",
   "metadata": {},
   "outputs": [
    {
     "name": "stdout",
     "output_type": "stream",
     "text": [
      "statewide\n"
     ]
    }
   ],
   "source": [
    "!ls /nobackupp27/nex/datapool/reanalysis/hawaii/rainfall/new/day"
   ]
  },
  {
   "cell_type": "code",
   "execution_count": 26,
   "id": "2ea4ab30-c7a6-429e-b3f2-d83c618acb49",
   "metadata": {},
   "outputs": [
    {
     "name": "stderr",
     "output_type": "stream",
     "text": [
      "/home5/skhajehe/.local/lib/python3.10/site-packages/distributed/client.py:3169: UserWarning: Sending large graph of size 19.72 MiB.\n",
      "This may cause some slowdown.\n",
      "Consider scattering data ahead of time and using futures.\n",
      "  warnings.warn(\n"
     ]
    },
    {
     "data": {
      "text/plain": [
       "<xarray.backends.zarr.ZarrStore at 0x1554a8741240>"
      ]
     },
     "execution_count": 26,
     "metadata": {},
     "output_type": "execute_result"
    }
   ],
   "source": [
    "# Define the path to your TIF files\n",
    "tif_files = sorted(glob(\"/nobackupp27/nex/datapool/reanalysis/hawaii/rainfall/new/day/statewide/data_map/*/*/*.tif\"))\n",
    "# Open each TIF file as a DataArray\n",
    "tif_files = [file for file in tif_files if \"02_29\" not in file]\n",
    "data_arrays = [rioxarray.open_rasterio(tif_file, chunks={'x': 1024, 'y': 1024}) for tif_file in tif_files[:9125]]\n",
    "\n",
    "# Concatenate along a new dimension (e.g., 'time' or 'band')\n",
    "combined_data = xr.concat(data_arrays, dim=\"time\")\n",
    "combined_data = combined_data.rename({\"y\": \"lat\", \"x\": \"lon\"})\n",
    "\n",
    "# Squeeze out the 'band' dimension if it has only one value\n",
    "if 'band' in combined_data.dims:\n",
    "    combined_data = combined_data.squeeze(\"band\", drop=True)\n",
    "combined_data = combined_data.assign_coords(time=(\"time\", times[14600:]))\n",
    "combined_data.to_zarr(\"/nobackupp28/skhajehe/hawaii_rea/hawaii_reanalysis_pr.zarr\")"
   ]
  },
  {
   "cell_type": "code",
   "execution_count": null,
   "id": "76b44488-6d41-4b2a-b69f-7a02ccdea8d4",
   "metadata": {},
   "outputs": [],
   "source": [
    "combined_data.to_zarr(\"/nobackupp28/skhajehe/hawaii_rea/hawaii_reanalysis_min.zarr\")"
   ]
  },
  {
   "cell_type": "code",
   "execution_count": null,
   "id": "938c2c46-3e69-4f6a-a96b-900c0aaf1027",
   "metadata": {},
   "outputs": [],
   "source": [
    "import xarray as xr\n",
    "reanalysis=xr.open_zarr(\"/nobackupp28/skhajehe/hawaii_rea/hawaii_reanalysis_max.zarr\")\n",
    "reanalysis = reanalysis.rename({\"__xarray_dataarray_variable__\": \"max_temp\"})\n",
    "max_temp=reanalysis.chunk(dict(time=-1,lat=200,lon=200)).groupby('time.season').mean(dim='time')\n",
    "max_temp.to_zarr(\"/nobackupp28/skhajehe/hawaii_rea/hawaii_reanalysis_max_seasonal.zarr\",mode=\"w\")\n"
   ]
  },
  {
   "cell_type": "code",
   "execution_count": 29,
   "id": "f57d4d90-cee2-4482-90f5-db68e459afde",
   "metadata": {},
   "outputs": [
    {
     "data": {
      "text/plain": [
       "<xarray.backends.zarr.ZarrStore at 0x15529ba889c0>"
      ]
     },
     "execution_count": 29,
     "metadata": {},
     "output_type": "execute_result"
    }
   ],
   "source": [
    "# import xarray as xr\n",
    "reanalysis=xr.open_zarr(\"/nobackupp28/skhajehe/hawaii_rea/hawaii_reanalysis_max.zarr\")\n",
    "reanalysis = reanalysis.rename({\"__xarray_dataarray_variable__\": \"tasmax\"})\n",
    "pr=reanalysis.chunk(dict(time=-1,lat=200,lon=200)).mean(dim='time')\n",
    "pr.to_zarr(\"/nobackupp28/skhajehe/hawaii_rea/hawaii_reanalysis_tasmax_annual.zarr\",mode=\"w\")\n"
   ]
  },
  {
   "cell_type": "code",
   "execution_count": 42,
   "id": "de9004a1-4b39-48e2-9265-5c7d234f1361",
   "metadata": {},
   "outputs": [
    {
     "name": "stdout",
     "output_type": "stream",
     "text": [
      "\u001b[0m\u001b[38;5;33mhawaii_gcm_max_annual.zarr\u001b[0m/    \u001b[38;5;33mhawaii_reanalysis_max_annual.zarr\u001b[0m/\n",
      "\u001b[38;5;33mhawaii_gcm_max_quantile.zarr\u001b[0m/  \u001b[38;5;33mhawaii_reanalysis_max_quantile.zarr\u001b[0m/\n",
      "\u001b[38;5;33mhawaii_gcm_max_seasonal.zarr\u001b[0m/  \u001b[38;5;33mhawaii_reanalysis_max_seasonal.zarr\u001b[0m/\n",
      "\u001b[38;5;33mhawaii_gcm_max.zarr\u001b[0m/           \u001b[38;5;33mhawaii_reanalysis_max.zarr\u001b[0m/\n",
      "\u001b[38;5;33mhawaii_gcm_min_annual.zarr\u001b[0m/    \u001b[38;5;33mhawaii_reanalysis_min_annual.zarr\u001b[0m/\n",
      "\u001b[38;5;33mhawaii_gcm_min_quantile.zarr\u001b[0m/  \u001b[38;5;33mhawaii_reanalysis_min_quantile.zarr\u001b[0m/\n",
      "\u001b[38;5;33mhawaii_gcm_min_seasonal.zarr\u001b[0m/  \u001b[38;5;33mhawaii_reanalysis_min_seasonal.zarr\u001b[0m/\n",
      "\u001b[38;5;33mhawaii_gcm_min.zarr\u001b[0m/           \u001b[38;5;33mhawaii_reanalysis_min.zarr\u001b[0m/\n",
      "\u001b[38;5;33mhawaii_gcm_pr_annual.zarr\u001b[0m/     \u001b[38;5;33mhawaii_reanalysis_pr_annual.zarr\u001b[0m/\n",
      "\u001b[38;5;33mhawaii_gcm_pr_quantile.zarr\u001b[0m/   \u001b[38;5;33mhawaii_reanalysis_pr_quantile.zarr\u001b[0m/\n",
      "\u001b[38;5;33mhawaii_gcm_pr.zarr\u001b[0m/            \u001b[38;5;33mhawaii_reanalysis.zarr\u001b[0m/\n"
     ]
    }
   ],
   "source": [
    "ls /nobackupp28/skhajehe/hawaii_rea/"
   ]
  },
  {
   "cell_type": "code",
   "execution_count": null,
   "id": "a6f7a262-0f4d-40d8-b2a7-9bf9bbb6c1dc",
   "metadata": {},
   "outputs": [],
   "source": [
    "xr.open_zarr(\"/nobackupp28/skhajehe/hawaii_rea/hawaii_reanalysis_min.zarr\")"
   ]
  },
  {
   "cell_type": "code",
   "execution_count": 32,
   "id": "7f6a0e22-f29d-4ab6-9ee3-2b20ec848d40",
   "metadata": {},
   "outputs": [
    {
     "data": {
      "text/plain": [
       "<xarray.backends.zarr.ZarrStore at 0x1552a07a52c0>"
      ]
     },
     "execution_count": 32,
     "metadata": {},
     "output_type": "execute_result"
    }
   ],
   "source": [
    "reanalysis=xr.open_zarr(\"/nobackupp28/skhajehe/hawaii_rea/hawaii_reanalysis_pr.zarr\")\n",
    "reanalysis = reanalysis.rename({\"__xarray_dataarray_variable__\": \"pr\"})\n",
    "quantile_models = ifun.nonzero_quantiles(reanalysis.chunk(dict(time=-1,lat=200,lon=200)),[0.25,0.5,0.75,0.9])\n",
    "quantile_models.to_zarr(\"/nobackupp28/skhajehe/hawaii_rea/hawaii_reanalysis_pr_quantile.zarr\",mode=\"w\")\n"
   ]
  },
  {
   "cell_type": "code",
   "execution_count": 38,
   "id": "d6089da2-6710-4175-82c2-b623aa181c43",
   "metadata": {},
   "outputs": [
    {
     "name": "stderr",
     "output_type": "stream",
     "text": [
      "2024-10-26 12:22:02,980 - distributed.utils_perf - WARNING - full garbage collections took 12% CPU time recently (threshold: 10%)\n"
     ]
    },
    {
     "data": {
      "text/plain": [
       "<xarray.backends.zarr.ZarrStore at 0x1511d2bd6ac0>"
      ]
     },
     "execution_count": 38,
     "metadata": {},
     "output_type": "execute_result"
    }
   ],
   "source": [
    "reanalysis=xr.open_zarr(\"/nobackupp28/skhajehe/hawaii_rea/hawaii_gcm_min.zarr\")\n",
    "quantile_models = ifun.nonzero_quantiles(reanalysis.chunk(dict(time=-1,lat=200,lon=200)),[0.25,0.5,0.75,0.1])\n",
    "quantile_models.to_zarr(\"/nobackupp28/skhajehe/hawaii_rea/hawaii_gcm_min_quantile.zarr\",mode=\"w\")\n"
   ]
  },
  {
   "cell_type": "code",
   "execution_count": 23,
   "id": "5a075784-8a70-41b1-a721-700fc365a338",
   "metadata": {},
   "outputs": [],
   "source": [
    "hi_precip=xr.open_mfdataset(\"/nobackupp17/bthrashe/public/HI_test/tasmin*historical*.nc\",decode_times=False)\n",
    "times = cftime.num2date(hi_precip['time'].values, units=hi_precip['time'].units, calendar=hi_precip['time'].calendar)\n",
    "hi_precip['time'] = times\n",
    "hi_precip.sel(time=slice('1990','2014')).to_zarr(\"/nobackupp28/skhajehe/hawaii_rea/hawaii_gcm_min.zarr\")"
   ]
  },
  {
   "cell_type": "code",
   "execution_count": 25,
   "id": "e42731b8-e8c5-49f2-afa8-bc765231520e",
   "metadata": {},
   "outputs": [
    {
     "data": {
      "text/plain": [
       "<xarray.backends.zarr.ZarrStore at 0x1511d2086840>"
      ]
     },
     "execution_count": 25,
     "metadata": {},
     "output_type": "execute_result"
    }
   ],
   "source": [
    "reanalysis=xr.open_zarr(\"/nobackupp28/skhajehe/hawaii_rea/hawaii_gcm_max.zarr\")\n",
    "max_temp=reanalysis.chunk(dict(time=-1,lat=200,lon=200)).groupby('time.season').mean(dim='time')\n",
    "max_temp.to_zarr(\"/nobackupp28/skhajehe/hawaii_rea/hawaii_gcm_max_seasonal.zarr\",mode=\"w\")"
   ]
  },
  {
   "cell_type": "code",
   "execution_count": 40,
   "id": "2976d622-e732-4dde-a303-021051cd5c9c",
   "metadata": {},
   "outputs": [
    {
     "data": {
      "text/plain": [
       "<xarray.backends.zarr.ZarrStore at 0x1511c67b4d40>"
      ]
     },
     "execution_count": 40,
     "metadata": {},
     "output_type": "execute_result"
    }
   ],
   "source": [
    "# import xarray as xr\n",
    "reanalysis=xr.open_zarr(\"/nobackupp28/skhajehe/hawaii_rea/hawaii_gcm_pr.zarr\")\n",
    "pr=reanalysis.chunk(dict(time=-1,lat=200,lon=200)).mean(dim='time')\n",
    "pr.to_zarr(\"/nobackupp28/skhajehe/hawaii_rea/hawaii_gcm_pr_annual.zarr\",mode=\"w\")\n"
   ]
  },
  {
   "cell_type": "code",
   "execution_count": 20,
   "id": "4c5b465a-6c9c-438e-9040-bf20f8ce3928",
   "metadata": {},
   "outputs": [
    {
     "name": "stdout",
     "output_type": "stream",
     "text": [
      "tasmin_day_ACCESS-CM2_historical_r1i1p1f1_gn_1950.nc\n",
      "tasmin_day_ACCESS-CM2_historical_r1i1p1f1_gn_1951.nc\n",
      "tasmin_day_ACCESS-CM2_historical_r1i1p1f1_gn_1952.nc\n",
      "tasmin_day_ACCESS-CM2_historical_r1i1p1f1_gn_1953.nc\n",
      "tasmin_day_ACCESS-CM2_historical_r1i1p1f1_gn_1954.nc\n",
      "tasmin_day_ACCESS-CM2_historical_r1i1p1f1_gn_1955.nc\n",
      "tasmin_day_ACCESS-CM2_historical_r1i1p1f1_gn_1956.nc\n",
      "tasmin_day_ACCESS-CM2_historical_r1i1p1f1_gn_1957.nc\n",
      "tasmin_day_ACCESS-CM2_historical_r1i1p1f1_gn_1958.nc\n",
      "tasmin_day_ACCESS-CM2_historical_r1i1p1f1_gn_1959.nc\n",
      "tasmin_day_ACCESS-CM2_historical_r1i1p1f1_gn_1960.nc\n",
      "tasmin_day_ACCESS-CM2_historical_r1i1p1f1_gn_1961.nc\n",
      "tasmin_day_ACCESS-CM2_historical_r1i1p1f1_gn_1962.nc\n",
      "tasmin_day_ACCESS-CM2_historical_r1i1p1f1_gn_1963.nc\n",
      "tasmin_day_ACCESS-CM2_historical_r1i1p1f1_gn_1964.nc\n",
      "tasmin_day_ACCESS-CM2_historical_r1i1p1f1_gn_1965.nc\n",
      "tasmin_day_ACCESS-CM2_historical_r1i1p1f1_gn_1966.nc\n",
      "tasmin_day_ACCESS-CM2_historical_r1i1p1f1_gn_1967.nc\n",
      "tasmin_day_ACCESS-CM2_historical_r1i1p1f1_gn_1968.nc\n",
      "tasmin_day_ACCESS-CM2_historical_r1i1p1f1_gn_1969.nc\n",
      "tasmin_day_ACCESS-CM2_historical_r1i1p1f1_gn_1970.nc\n",
      "tasmin_day_ACCESS-CM2_historical_r1i1p1f1_gn_1971.nc\n",
      "tasmin_day_ACCESS-CM2_historical_r1i1p1f1_gn_1972.nc\n",
      "tasmin_day_ACCESS-CM2_historical_r1i1p1f1_gn_1973.nc\n",
      "tasmin_day_ACCESS-CM2_historical_r1i1p1f1_gn_1974.nc\n",
      "tasmin_day_ACCESS-CM2_historical_r1i1p1f1_gn_1975.nc\n",
      "tasmin_day_ACCESS-CM2_historical_r1i1p1f1_gn_1976.nc\n",
      "tasmin_day_ACCESS-CM2_historical_r1i1p1f1_gn_1977.nc\n",
      "tasmin_day_ACCESS-CM2_historical_r1i1p1f1_gn_1978.nc\n",
      "tasmin_day_ACCESS-CM2_historical_r1i1p1f1_gn_1979.nc\n",
      "tasmin_day_ACCESS-CM2_historical_r1i1p1f1_gn_1980.nc\n",
      "tasmin_day_ACCESS-CM2_historical_r1i1p1f1_gn_1981.nc\n",
      "tasmin_day_ACCESS-CM2_historical_r1i1p1f1_gn_1982.nc\n",
      "tasmin_day_ACCESS-CM2_historical_r1i1p1f1_gn_1983.nc\n",
      "tasmin_day_ACCESS-CM2_historical_r1i1p1f1_gn_1984.nc\n",
      "tasmin_day_ACCESS-CM2_historical_r1i1p1f1_gn_1985.nc\n",
      "tasmin_day_ACCESS-CM2_historical_r1i1p1f1_gn_1986.nc\n",
      "tasmin_day_ACCESS-CM2_historical_r1i1p1f1_gn_1987.nc\n",
      "tasmin_day_ACCESS-CM2_historical_r1i1p1f1_gn_1988.nc\n",
      "tasmin_day_ACCESS-CM2_historical_r1i1p1f1_gn_1989.nc\n",
      "tasmin_day_ACCESS-CM2_historical_r1i1p1f1_gn_1990.nc\n",
      "tasmin_day_ACCESS-CM2_historical_r1i1p1f1_gn_1991.nc\n",
      "tasmin_day_ACCESS-CM2_historical_r1i1p1f1_gn_1992.nc\n",
      "tasmin_day_ACCESS-CM2_historical_r1i1p1f1_gn_1993.nc\n",
      "tasmin_day_ACCESS-CM2_historical_r1i1p1f1_gn_1994.nc\n",
      "tasmin_day_ACCESS-CM2_historical_r1i1p1f1_gn_1995.nc\n",
      "tasmin_day_ACCESS-CM2_historical_r1i1p1f1_gn_1996.nc\n",
      "tasmin_day_ACCESS-CM2_historical_r1i1p1f1_gn_1997.nc\n",
      "tasmin_day_ACCESS-CM2_historical_r1i1p1f1_gn_1998.nc\n",
      "tasmin_day_ACCESS-CM2_historical_r1i1p1f1_gn_1999.nc\n",
      "tasmin_day_ACCESS-CM2_historical_r1i1p1f1_gn_2000.nc\n",
      "tasmin_day_ACCESS-CM2_historical_r1i1p1f1_gn_2001.nc\n",
      "tasmin_day_ACCESS-CM2_historical_r1i1p1f1_gn_2002.nc\n",
      "tasmin_day_ACCESS-CM2_historical_r1i1p1f1_gn_2003.nc\n",
      "tasmin_day_ACCESS-CM2_historical_r1i1p1f1_gn_2004.nc\n",
      "tasmin_day_ACCESS-CM2_historical_r1i1p1f1_gn_2005.nc\n",
      "tasmin_day_ACCESS-CM2_historical_r1i1p1f1_gn_2006.nc\n",
      "tasmin_day_ACCESS-CM2_historical_r1i1p1f1_gn_2007.nc\n",
      "tasmin_day_ACCESS-CM2_historical_r1i1p1f1_gn_2008.nc\n",
      "tasmin_day_ACCESS-CM2_historical_r1i1p1f1_gn_2009.nc\n",
      "tasmin_day_ACCESS-CM2_historical_r1i1p1f1_gn_2010.nc\n",
      "tasmin_day_ACCESS-CM2_historical_r1i1p1f1_gn_2011.nc\n",
      "tasmin_day_ACCESS-CM2_historical_r1i1p1f1_gn_2012.nc\n",
      "tasmin_day_ACCESS-CM2_historical_r1i1p1f1_gn_2013.nc\n",
      "tasmin_day_ACCESS-CM2_historical_r1i1p1f1_gn_2014.nc\n"
     ]
    }
   ],
   "source": [
    "!ls /nobackupp27/nex/projects/GDDP2/HI/BCSD/ACCESS-CM2/historical/r1i1p1f1/tasmin"
   ]
  },
  {
   "cell_type": "code",
   "execution_count": null,
   "id": "8f7d63f5-274e-45a5-8aff-0862c634e4b3",
   "metadata": {},
   "outputs": [],
   "source": []
  }
 ],
 "metadata": {
  "kernelspec": {
   "display_name": "Python 3 (ipykernel)",
   "language": "python",
   "name": "python3"
  },
  "language_info": {
   "codemirror_mode": {
    "name": "ipython",
    "version": 3
   },
   "file_extension": ".py",
   "mimetype": "text/x-python",
   "name": "python",
   "nbconvert_exporter": "python",
   "pygments_lexer": "ipython3",
   "version": "3.10.4"
  }
 },
 "nbformat": 4,
 "nbformat_minor": 5
}
